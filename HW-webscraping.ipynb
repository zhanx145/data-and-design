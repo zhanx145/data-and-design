{
 "cells": [
  {
   "cell_type": "code",
   "execution_count": 1,
   "metadata": {},
   "outputs": [],
   "source": [
    "import requests\n",
    "from bs4 import BeautifulSoup"
   ]
  },
  {
   "cell_type": "code",
   "execution_count": 2,
   "metadata": {},
   "outputs": [],
   "source": [
    "url='https://pitchfork.com/reviews/albums/'"
   ]
  },
  {
   "cell_type": "code",
   "execution_count": 3,
   "metadata": {},
   "outputs": [],
   "source": [
    "response=requests.get(url)"
   ]
  },
  {
   "cell_type": "code",
   "execution_count": 4,
   "metadata": {},
   "outputs": [
    {
     "data": {
      "text/plain": [
       "<Response [200]>"
      ]
     },
     "execution_count": 4,
     "metadata": {},
     "output_type": "execute_result"
    }
   ],
   "source": [
    "response"
   ]
  },
  {
   "cell_type": "code",
   "execution_count": 6,
   "metadata": {},
   "outputs": [
    {
     "data": {
      "text/plain": [
       "'<!DOCTYPE html><html lang=\"en\"><head><title data-react-helmet=\"true\">New Albums &amp; Music Reviews '"
      ]
     },
     "execution_count": 6,
     "metadata": {},
     "output_type": "execute_result"
    }
   ],
   "source": [
    "response.text[:100]"
   ]
  },
  {
   "cell_type": "code",
   "execution_count": 7,
   "metadata": {},
   "outputs": [],
   "source": [
    "soup=BeautifulSoup(response.text,'html.parser')"
   ]
  },
  {
   "cell_type": "code",
   "execution_count": 38,
   "metadata": {},
   "outputs": [
    {
     "data": {
      "text/plain": [
       "<div class=\"review__meta\"><ul class=\"genre-list genre-list--inline review__genre-list\"><li class=\"genre-list__item\"><a class=\"genre-list__link\" href=\"/reviews/albums/?genre=rap\">Rap</a></li></ul><ul class=\"authors\"><li><a class=\"linked display-name display-name--linked\" href=\"/staff/torri-mc-adams/\"><span class=\"by\">by: </span>Torii MacAdams</a></li></ul><time class=\"pub-date\" datetime=\"2018-10-03T05:00:00\" title=\"Wed, 03 Oct 2018 05:00:00 GMT\">20 hrs ago</time></div>"
      ]
     },
     "execution_count": 38,
     "metadata": {},
     "output_type": "execute_result"
    }
   ],
   "source": [
    "soup.find('div',{'class':'review__meta'})"
   ]
  },
  {
   "cell_type": "code",
   "execution_count": 29,
   "metadata": {},
   "outputs": [
    {
     "data": {
      "text/plain": [
       "'Rap'"
      ]
     },
     "execution_count": 29,
     "metadata": {},
     "output_type": "execute_result"
    }
   ],
   "source": [
    "soup.find('div',{'class':'review__meta'}).find('li').text"
   ]
  },
  {
   "cell_type": "code",
   "execution_count": 30,
   "metadata": {},
   "outputs": [],
   "source": [
    "meta=soup.find_all('div',{'class':'review__meta'})"
   ]
  },
  {
   "cell_type": "code",
   "execution_count": 34,
   "metadata": {},
   "outputs": [],
   "source": [
    "genres=[]\n",
    "for a in meta:\n",
    "    t=a.find('li').text\n",
    "    genres.append(t)"
   ]
  },
  {
   "cell_type": "code",
   "execution_count": 35,
   "metadata": {},
   "outputs": [
    {
     "data": {
      "text/plain": [
       "['Rap',\n",
       " 'Rock',\n",
       " 'Electronic',\n",
       " 'Experimental',\n",
       " 'Electronic',\n",
       " 'Electronic',\n",
       " 'Folk/Country',\n",
       " 'Rock',\n",
       " 'Rap',\n",
       " 'Rock',\n",
       " 'Rock',\n",
       " 'Rock']"
      ]
     },
     "execution_count": 35,
     "metadata": {},
     "output_type": "execute_result"
    }
   ],
   "source": [
    "genres"
   ]
  },
  {
   "cell_type": "code",
   "execution_count": 39,
   "metadata": {},
   "outputs": [],
   "source": [
    "url='https://www.yelp.com/search?find_desc=Italian+Food&find_loc=Civic+Center,+Manhattan,+NY'"
   ]
  },
  {
   "cell_type": "code",
   "execution_count": 40,
   "metadata": {},
   "outputs": [],
   "source": [
    "response2=requests.get(url)"
   ]
  },
  {
   "cell_type": "code",
   "execution_count": 41,
   "metadata": {},
   "outputs": [
    {
     "data": {
      "text/plain": [
       "<Response [200]>"
      ]
     },
     "execution_count": 41,
     "metadata": {},
     "output_type": "execute_result"
    }
   ],
   "source": [
    "response2"
   ]
  },
  {
   "cell_type": "code",
   "execution_count": 42,
   "metadata": {},
   "outputs": [
    {
     "data": {
      "text/plain": [
       "'<!DOCTYPE HTML>\\n\\n<!--[if lt IE 7 ]> <html xmlns:fb=\"http://www.facebook.com/2008/fbml\" class=\"ie6 ie'"
      ]
     },
     "execution_count": 42,
     "metadata": {},
     "output_type": "execute_result"
    }
   ],
   "source": [
    "response2.text[:100]"
   ]
  },
  {
   "cell_type": "code",
   "execution_count": 50,
   "metadata": {},
   "outputs": [],
   "source": [
    "soup2=BeautifulSoup(response2.text,'html.parser')"
   ]
  },
  {
   "cell_type": "code",
   "execution_count": 51,
   "metadata": {},
   "outputs": [
    {
     "data": {
      "text/plain": [
       "<a class=\"biz-name js-analytics-click\" data-analytics-label=\"biz-name\" data-hovercard-id=\"S2nQL0ycsY6a38V2dP-qog\" href=\"/adredir?ad_business_id=NFlbfEXIdn2yHZ3wlXHzvQ&amp;campaign_id=KnfGVUPKj1xWlKy4srYJ4A&amp;click_origin=search_results&amp;placement=above_search&amp;redirect_url=https%3A%2F%2Fwww.yelp.com%2Fbiz%2Fmexzzarella-pitza-bronx&amp;request_id=0709cd25a36ca68f&amp;signature=1e09c38b2d02a89813f91a1b9ae68705bd7a45a86997b8f49614627cc6e6298f&amp;slot=0\"><span>Mexzzarella Pitza</span></a>"
      ]
     },
     "execution_count": 51,
     "metadata": {},
     "output_type": "execute_result"
    }
   ],
   "source": [
    "soup2.find('a',{'class':'biz-name js-analytics-click'})"
   ]
  },
  {
   "cell_type": "code",
   "execution_count": 53,
   "metadata": {},
   "outputs": [],
   "source": [
    "names=soup2.find_all('a',{'class':'biz-name js-analytics-click'})"
   ]
  },
  {
   "cell_type": "code",
   "execution_count": 78,
   "metadata": {},
   "outputs": [
    {
     "name": "stdout",
     "output_type": "stream",
     "text": [
      "Mexzzarella Pitza\n",
      "Gran Morsi\n",
      "Sole di Capri\n",
      "Sapori D’Italia\n",
      "Tastalu Panini\n",
      "Da Claudio\n",
      "Forlini’s Restaurant\n",
      "A Summer Day Café\n",
      "Rubirosa\n",
      "Zia Maria-Little Italy\n",
      "Tre Sorelle\n",
      "Pepe Rosso Social\n",
      "Pisillo Italian Panini\n",
      "Luna Pizza\n",
      "Hank’s Juicy Beef\n",
      "Da Mikele by Luzzo’s\n",
      "Eataly Downtown\n",
      "Ecco\n",
      "Aunt Jake’s\n",
      "Attraversa\n",
      "Benito One\n",
      "Felice\n",
      "Locanda Verde\n",
      "Piacere\n",
      "IL Brigante\n",
      "Da Gennaro\n",
      "Barbalu Restaurant\n",
      "Osteria Morini Manhattan\n",
      "L’ Angolo\n",
      "10 Corso Como\n",
      "Scalini Fedeli\n"
     ]
    }
   ],
   "source": [
    "restaurants=[]\n",
    "for name in names:\n",
    "    pt=print(name.text)"
   ]
  },
  {
   "cell_type": "code",
   "execution_count": 68,
   "metadata": {},
   "outputs": [
    {
     "data": {
      "text/plain": [
       "'\\n            278 reviews\\n    '"
      ]
     },
     "execution_count": 68,
     "metadata": {},
     "output_type": "execute_result"
    }
   ],
   "source": [
    "soup2.find('span',{'class':'review-count rating-qualifier'}).text"
   ]
  },
  {
   "cell_type": "code",
   "execution_count": 71,
   "metadata": {},
   "outputs": [],
   "source": [
    "reviews=soup2.find_all('span',{'class':'review-count rating-qualifier'})"
   ]
  },
  {
   "cell_type": "code",
   "execution_count": 80,
   "metadata": {},
   "outputs": [
    {
     "name": "stdout",
     "output_type": "stream",
     "text": [
      "\n",
      "            278 reviews\n",
      "    \n",
      "\n",
      "            219 reviews\n",
      "    \n",
      "\n",
      "            104 reviews\n",
      "    \n",
      "\n",
      "            1 review\n",
      "    \n",
      "\n",
      "            344 reviews\n",
      "    \n",
      "\n",
      "            328 reviews\n",
      "    \n",
      "\n",
      "            17 reviews\n",
      "    \n",
      "\n",
      "            1695 reviews\n",
      "    \n",
      "\n",
      "            11 reviews\n",
      "    \n",
      "\n",
      "            127 reviews\n",
      "    \n",
      "\n",
      "            701 reviews\n",
      "    \n",
      "\n",
      "            486 reviews\n",
      "    \n",
      "\n",
      "            63 reviews\n",
      "    \n",
      "\n",
      "            173 reviews\n",
      "    \n",
      "\n",
      "            318 reviews\n",
      "    \n",
      "\n",
      "            665 reviews\n",
      "    \n",
      "\n",
      "            117 reviews\n",
      "    \n",
      "\n",
      "            864 reviews\n",
      "    \n",
      "\n",
      "            22 reviews\n",
      "    \n",
      "\n",
      "            593 reviews\n",
      "    \n",
      "\n",
      "            282 reviews\n",
      "    \n",
      "\n",
      "            1476 reviews\n",
      "    \n",
      "\n",
      "            634 reviews\n",
      "    \n",
      "\n",
      "            323 reviews\n",
      "    \n",
      "\n",
      "            654 reviews\n",
      "    \n",
      "\n",
      "            229 reviews\n",
      "    \n",
      "\n",
      "            1015 reviews\n",
      "    \n",
      "\n",
      "            61 reviews\n",
      "    \n",
      "\n",
      "            5 reviews\n",
      "    \n",
      "\n",
      "            280 reviews\n",
      "    \n"
     ]
    }
   ],
   "source": [
    "reviewnumbers=[]\n",
    "for review in reviews:\n",
    "    print(review.text)"
   ]
  },
  {
   "cell_type": "code",
   "execution_count": null,
   "metadata": {},
   "outputs": [],
   "source": []
  }
 ],
 "metadata": {
  "kernelspec": {
   "display_name": "Python 3",
   "language": "python",
   "name": "python3"
  },
  "language_info": {
   "codemirror_mode": {
    "name": "ipython",
    "version": 3
   },
   "file_extension": ".py",
   "mimetype": "text/x-python",
   "name": "python",
   "nbconvert_exporter": "python",
   "pygments_lexer": "ipython3",
   "version": "3.6.5"
  }
 },
 "nbformat": 4,
 "nbformat_minor": 2
}
