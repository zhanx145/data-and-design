{
 "cells": [
  {
   "cell_type": "code",
   "execution_count": 45,
   "metadata": {},
   "outputs": [],
   "source": [
    "%matplotlib inline\n",
    "import matplotlib.pyplot as plt\n",
    "import pandas as pd\n",
    "import numpy as np"
   ]
  },
  {
   "cell_type": "code",
   "execution_count": 2,
   "metadata": {},
   "outputs": [],
   "source": [
    "cause = pd.read_csv('Data/New_York_City_Leading_Causes_of_Death.csv')"
   ]
  },
  {
   "cell_type": "code",
   "execution_count": 3,
   "metadata": {},
   "outputs": [
    {
     "data": {
      "text/html": [
       "<div>\n",
       "<style scoped>\n",
       "    .dataframe tbody tr th:only-of-type {\n",
       "        vertical-align: middle;\n",
       "    }\n",
       "\n",
       "    .dataframe tbody tr th {\n",
       "        vertical-align: top;\n",
       "    }\n",
       "\n",
       "    .dataframe thead th {\n",
       "        text-align: right;\n",
       "    }\n",
       "</style>\n",
       "<table border=\"1\" class=\"dataframe\">\n",
       "  <thead>\n",
       "    <tr style=\"text-align: right;\">\n",
       "      <th></th>\n",
       "      <th>Year</th>\n",
       "      <th>Leading Cause</th>\n",
       "      <th>Sex</th>\n",
       "      <th>Race Ethnicity</th>\n",
       "      <th>Deaths</th>\n",
       "      <th>Death Rate</th>\n",
       "      <th>Age Adjusted Death Rate</th>\n",
       "    </tr>\n",
       "  </thead>\n",
       "  <tbody>\n",
       "    <tr>\n",
       "      <th>0</th>\n",
       "      <td>2010</td>\n",
       "      <td>Assault (Homicide: Y87.1, X85-Y09)</td>\n",
       "      <td>M</td>\n",
       "      <td>Black Non-Hispanic</td>\n",
       "      <td>299</td>\n",
       "      <td>35.1</td>\n",
       "      <td>35.5</td>\n",
       "    </tr>\n",
       "    <tr>\n",
       "      <th>1</th>\n",
       "      <td>2011</td>\n",
       "      <td>Mental and Behavioral Disorders due to Acciden...</td>\n",
       "      <td>M</td>\n",
       "      <td>Not Stated/Unknown</td>\n",
       "      <td>5</td>\n",
       "      <td>.</td>\n",
       "      <td>.</td>\n",
       "    </tr>\n",
       "    <tr>\n",
       "      <th>2</th>\n",
       "      <td>2011</td>\n",
       "      <td>Diseases of Heart (I00-I09, I11, I13, I20-I51)</td>\n",
       "      <td>M</td>\n",
       "      <td>Black Non-Hispanic</td>\n",
       "      <td>1840</td>\n",
       "      <td>215.7</td>\n",
       "      <td>268.3</td>\n",
       "    </tr>\n",
       "    <tr>\n",
       "      <th>3</th>\n",
       "      <td>2008</td>\n",
       "      <td>Certain Conditions originating in the Perinata...</td>\n",
       "      <td>F</td>\n",
       "      <td>Other Race/ Ethnicity</td>\n",
       "      <td>.</td>\n",
       "      <td>.</td>\n",
       "      <td>.</td>\n",
       "    </tr>\n",
       "    <tr>\n",
       "      <th>4</th>\n",
       "      <td>2014</td>\n",
       "      <td>Accidents Except Drug Posioning (V01-X39, X43,...</td>\n",
       "      <td>F</td>\n",
       "      <td>Hispanic</td>\n",
       "      <td>64</td>\n",
       "      <td>5.1</td>\n",
       "      <td>5.4</td>\n",
       "    </tr>\n",
       "  </tbody>\n",
       "</table>\n",
       "</div>"
      ],
      "text/plain": [
       "   Year                                      Leading Cause Sex  \\\n",
       "0  2010                 Assault (Homicide: Y87.1, X85-Y09)   M   \n",
       "1  2011  Mental and Behavioral Disorders due to Acciden...   M   \n",
       "2  2011     Diseases of Heart (I00-I09, I11, I13, I20-I51)   M   \n",
       "3  2008  Certain Conditions originating in the Perinata...   F   \n",
       "4  2014  Accidents Except Drug Posioning (V01-X39, X43,...   F   \n",
       "\n",
       "          Race Ethnicity Deaths Death Rate Age Adjusted Death Rate  \n",
       "0     Black Non-Hispanic    299       35.1                    35.5  \n",
       "1     Not Stated/Unknown      5          .                       .  \n",
       "2     Black Non-Hispanic   1840      215.7                   268.3  \n",
       "3  Other Race/ Ethnicity      .          .                       .  \n",
       "4               Hispanic     64        5.1                     5.4  "
      ]
     },
     "execution_count": 3,
     "metadata": {},
     "output_type": "execute_result"
    }
   ],
   "source": [
    "cause.head()"
   ]
  },
  {
   "cell_type": "code",
   "execution_count": 4,
   "metadata": {},
   "outputs": [
    {
     "data": {
      "text/html": [
       "<div>\n",
       "<style scoped>\n",
       "    .dataframe tbody tr th:only-of-type {\n",
       "        vertical-align: middle;\n",
       "    }\n",
       "\n",
       "    .dataframe tbody tr th {\n",
       "        vertical-align: top;\n",
       "    }\n",
       "\n",
       "    .dataframe thead th {\n",
       "        text-align: right;\n",
       "    }\n",
       "</style>\n",
       "<table border=\"1\" class=\"dataframe\">\n",
       "  <thead>\n",
       "    <tr style=\"text-align: right;\">\n",
       "      <th></th>\n",
       "      <th>Year</th>\n",
       "      <th>Leading Cause</th>\n",
       "      <th>Sex</th>\n",
       "      <th>Race Ethnicity</th>\n",
       "      <th>Deaths</th>\n",
       "      <th>Death Rate</th>\n",
       "      <th>Age Adjusted Death Rate</th>\n",
       "    </tr>\n",
       "  </thead>\n",
       "  <tbody>\n",
       "    <tr>\n",
       "      <th>1089</th>\n",
       "      <td>2009</td>\n",
       "      <td>Chronic Lower Respiratory Diseases (J40-J47)</td>\n",
       "      <td>F</td>\n",
       "      <td>Black Non-Hispanic</td>\n",
       "      <td>188</td>\n",
       "      <td>18</td>\n",
       "      <td>16.4</td>\n",
       "    </tr>\n",
       "    <tr>\n",
       "      <th>1090</th>\n",
       "      <td>2009</td>\n",
       "      <td>Cerebrovascular Disease (Stroke: I60-I69)</td>\n",
       "      <td>F</td>\n",
       "      <td>Not Stated/Unknown</td>\n",
       "      <td>5</td>\n",
       "      <td>.</td>\n",
       "      <td>.</td>\n",
       "    </tr>\n",
       "    <tr>\n",
       "      <th>1091</th>\n",
       "      <td>2014</td>\n",
       "      <td>Diabetes Mellitus (E10-E14)</td>\n",
       "      <td>M</td>\n",
       "      <td>Black Non-Hispanic</td>\n",
       "      <td>318</td>\n",
       "      <td>36.8</td>\n",
       "      <td>42.2</td>\n",
       "    </tr>\n",
       "    <tr>\n",
       "      <th>1092</th>\n",
       "      <td>2008</td>\n",
       "      <td>Nephritis, Nephrotic Syndrome and Nephrisis (N...</td>\n",
       "      <td>F</td>\n",
       "      <td>Black Non-Hispanic</td>\n",
       "      <td>71</td>\n",
       "      <td>6.8</td>\n",
       "      <td>6.3</td>\n",
       "    </tr>\n",
       "    <tr>\n",
       "      <th>1093</th>\n",
       "      <td>2011</td>\n",
       "      <td>Diseases of Heart (I00-I09, I11, I13, I20-I51)</td>\n",
       "      <td>M</td>\n",
       "      <td>Not Stated/Unknown</td>\n",
       "      <td>62</td>\n",
       "      <td>.</td>\n",
       "      <td>.</td>\n",
       "    </tr>\n",
       "  </tbody>\n",
       "</table>\n",
       "</div>"
      ],
      "text/plain": [
       "      Year                                      Leading Cause Sex  \\\n",
       "1089  2009       Chronic Lower Respiratory Diseases (J40-J47)   F   \n",
       "1090  2009          Cerebrovascular Disease (Stroke: I60-I69)   F   \n",
       "1091  2014                        Diabetes Mellitus (E10-E14)   M   \n",
       "1092  2008  Nephritis, Nephrotic Syndrome and Nephrisis (N...   F   \n",
       "1093  2011     Diseases of Heart (I00-I09, I11, I13, I20-I51)   M   \n",
       "\n",
       "          Race Ethnicity Deaths Death Rate Age Adjusted Death Rate  \n",
       "1089  Black Non-Hispanic    188         18                    16.4  \n",
       "1090  Not Stated/Unknown      5          .                       .  \n",
       "1091  Black Non-Hispanic    318       36.8                    42.2  \n",
       "1092  Black Non-Hispanic     71        6.8                     6.3  \n",
       "1093  Not Stated/Unknown     62          .                       .  "
      ]
     },
     "execution_count": 4,
     "metadata": {},
     "output_type": "execute_result"
    }
   ],
   "source": [
    "cause.tail()"
   ]
  },
  {
   "cell_type": "code",
   "execution_count": 5,
   "metadata": {},
   "outputs": [
    {
     "name": "stdout",
     "output_type": "stream",
     "text": [
      "<class 'pandas.core.frame.DataFrame'>\n",
      "RangeIndex: 1094 entries, 0 to 1093\n",
      "Data columns (total 7 columns):\n",
      "Year                       1094 non-null int64\n",
      "Leading Cause              1094 non-null object\n",
      "Sex                        1094 non-null object\n",
      "Race Ethnicity             1094 non-null object\n",
      "Deaths                     1094 non-null object\n",
      "Death Rate                 1094 non-null object\n",
      "Age Adjusted Death Rate    1094 non-null object\n",
      "dtypes: int64(1), object(6)\n",
      "memory usage: 59.9+ KB\n"
     ]
    }
   ],
   "source": [
    "cause.info()"
   ]
  },
  {
   "cell_type": "code",
   "execution_count": 12,
   "metadata": {},
   "outputs": [
    {
     "data": {
      "text/plain": [
       "0                      Assault (Homicide: Y87.1, X85-Y09)\n",
       "1       Mental and Behavioral Disorders due to Acciden...\n",
       "2          Diseases of Heart (I00-I09, I11, I13, I20-I51)\n",
       "3       Certain Conditions originating in the Perinata...\n",
       "4       Accidents Except Drug Posioning (V01-X39, X43,...\n",
       "5         Intentional Self-Harm (Suicide: X60-X84, Y87.0)\n",
       "6       Accidents Except Drug Posioning (V01-X39, X43,...\n",
       "7                                        All Other Causes\n",
       "8          Diseases of Heart (I00-I09, I11, I13, I20-I51)\n",
       "9       Accidents Except Drug Posioning (V01-X39, X43,...\n",
       "10                                   Septicemia (A40-A41)\n",
       "11      Certain Conditions originating in the Perinata...\n",
       "12      Essential Hypertension and Renal Diseases (I10...\n",
       "13                            Diabetes Mellitus (E10-E14)\n",
       "14                Influenza (Flu) and Pneumonia (J09-J18)\n",
       "15              Cerebrovascular Disease (Stroke: I60-I69)\n",
       "16         Diseases of Heart (I00-I09, I11, I13, I20-I51)\n",
       "17           Chronic Lower Respiratory Diseases (J40-J47)\n",
       "18      Certain Conditions originating in the Perinata...\n",
       "19                                   Septicemia (A40-A41)\n",
       "20      Human Immunodeficiency Virus Disease (HIV: B20...\n",
       "21                  Malignant Neoplasms (Cancer: C00-C97)\n",
       "22                  Malignant Neoplasms (Cancer: C00-C97)\n",
       "23           Chronic Lower Respiratory Diseases (J40-J47)\n",
       "24                  Malignant Neoplasms (Cancer: C00-C97)\n",
       "25                  Malignant Neoplasms (Cancer: C00-C97)\n",
       "26                Influenza (Flu) and Pneumonia (J09-J18)\n",
       "27      Human Immunodeficiency Virus Disease (HIV: B20...\n",
       "28                                       All Other Causes\n",
       "29        Intentional Self-Harm (Suicide: X60-X84, Y87.0)\n",
       "                              ...                        \n",
       "1064                            Alzheimer's Disease (G30)\n",
       "1065    Essential Hypertension and Renal Diseases (I10...\n",
       "1066            Cerebrovascular Disease (Stroke: I60-I69)\n",
       "1067      Intentional Self-Harm (Suicide: X60-X84, Y87.0)\n",
       "1068    Essential Hypertension and Renal Diseases (I10...\n",
       "1069                            Alzheimer's Disease (G30)\n",
       "1070    Nephritis, Nephrotic Syndrome and Nephrisis (N...\n",
       "1071                                     All Other Causes\n",
       "1072                Malignant Neoplasms (Cancer: C00-C97)\n",
       "1073    Essential Hypertension and Renal Diseases (I10...\n",
       "1074            Cerebrovascular Disease (Stroke: I60-I69)\n",
       "1075         Chronic Lower Respiratory Diseases (J40-J47)\n",
       "1076       Diseases of Heart (I00-I09, I11, I13, I20-I51)\n",
       "1077    Accidents Except Drug Posioning (V01-X39, X43,...\n",
       "1078    Nephritis, Nephrotic Syndrome and Nephrisis (N...\n",
       "1079                            Alzheimer's Disease (G30)\n",
       "1080    Certain Conditions originating in the Perinata...\n",
       "1081                                     All Other Causes\n",
       "1082         Chronic Lower Respiratory Diseases (J40-J47)\n",
       "1083              Influenza (Flu) and Pneumonia (J09-J18)\n",
       "1084         Chronic Lower Respiratory Diseases (J40-J47)\n",
       "1085    Mental and Behavioral Disorders due to Acciden...\n",
       "1086              Influenza (Flu) and Pneumonia (J09-J18)\n",
       "1087      Intentional Self-Harm (Suicide: X60-X84, Y87.0)\n",
       "1088    Essential Hypertension and Renal Diseases (I10...\n",
       "1089         Chronic Lower Respiratory Diseases (J40-J47)\n",
       "1090            Cerebrovascular Disease (Stroke: I60-I69)\n",
       "1091                          Diabetes Mellitus (E10-E14)\n",
       "1092    Nephritis, Nephrotic Syndrome and Nephrisis (N...\n",
       "1093       Diseases of Heart (I00-I09, I11, I13, I20-I51)\n",
       "Name: Leading Cause, Length: 1094, dtype: object"
      ]
     },
     "execution_count": 12,
     "metadata": {},
     "output_type": "execute_result"
    }
   ],
   "source": [
    "cause['Leading Cause']"
   ]
  },
  {
   "cell_type": "code",
   "execution_count": 13,
   "metadata": {},
   "outputs": [
    {
     "data": {
      "text/plain": [
       "Influenza (Flu) and Pneumonia (J09-J18)                                                                                              96\n",
       "All Other Causes                                                                                                                     96\n",
       "Diseases of Heart (I00-I09, I11, I13, I20-I51)                                                                                       96\n",
       "Malignant Neoplasms (Cancer: C00-C97)                                                                                                96\n",
       "Diabetes Mellitus (E10-E14)                                                                                                          92\n",
       "Cerebrovascular Disease (Stroke: I60-I69)                                                                                            90\n",
       "Chronic Lower Respiratory Diseases (J40-J47)                                                                                         88\n",
       "Accidents Except Drug Posioning (V01-X39, X43, X45-X59, Y85-Y86)                                                                     80\n",
       "Essential Hypertension and Renal Diseases (I10, I12)                                                                                 75\n",
       "Human Immunodeficiency Virus Disease (HIV: B20-B24)                                                                                  43\n",
       "Mental and Behavioral Disorders due to Accidental Poisoning and Other Psychoactive Substance Use (F11-F16, F18-F19, X40-X42, X44)    39\n",
       "Intentional Self-Harm (Suicide: X60-X84, Y87.0)                                                                                      38\n",
       "Alzheimer's Disease (G30)                                                                                                            32\n",
       "Chronic Liver Disease and Cirrhosis (K70, K73)                                                                                       29\n",
       "Certain Conditions originating in the Perinatal Period (P00-P96)                                                                     26\n",
       "Assault (Homicide: Y87.1, X85-Y09)                                                                                                   20\n",
       "Nephritis, Nephrotic Syndrome and Nephrisis (N00-N07, N17-N19, N25-N27)                                                              17\n",
       "Septicemia (A40-A41)                                                                                                                 13\n",
       "Congenital Malformations, Deformations, and Chromosomal Abnormalities (Q00-Q99)                                                       8\n",
       "Viral Hepatitis (B15-B19)                                                                                                             5\n",
       "Insitu or Benign / Uncertain Neoplasms (D00-D48)                                                                                      5\n",
       "Atherosclerosis (I70)                                                                                                                 3\n",
       "Aortic Aneurysm and Dissection (I71)                                                                                                  3\n",
       "Mental and Behavioral Disorders due to Use of Alcohol (F10)                                                                           2\n",
       "Tuberculosis (A16-A19)                                                                                                                1\n",
       "Parkinson's Disease (G20)                                                                                                             1\n",
       "Name: Leading Cause, dtype: int64"
      ]
     },
     "execution_count": 13,
     "metadata": {},
     "output_type": "execute_result"
    }
   ],
   "source": [
    "cause['Leading Cause'].value_counts()"
   ]
  },
  {
   "cell_type": "code",
   "execution_count": 14,
   "metadata": {},
   "outputs": [
    {
     "data": {
      "text/plain": [
       "0        True\n",
       "1       False\n",
       "2       False\n",
       "3       False\n",
       "4       False\n",
       "5       False\n",
       "6       False\n",
       "7       False\n",
       "8       False\n",
       "9       False\n",
       "10      False\n",
       "11      False\n",
       "12      False\n",
       "13      False\n",
       "14      False\n",
       "15      False\n",
       "16      False\n",
       "17      False\n",
       "18      False\n",
       "19      False\n",
       "20      False\n",
       "21      False\n",
       "22      False\n",
       "23      False\n",
       "24      False\n",
       "25      False\n",
       "26      False\n",
       "27      False\n",
       "28      False\n",
       "29      False\n",
       "        ...  \n",
       "1064    False\n",
       "1065    False\n",
       "1066    False\n",
       "1067    False\n",
       "1068    False\n",
       "1069    False\n",
       "1070    False\n",
       "1071    False\n",
       "1072    False\n",
       "1073    False\n",
       "1074    False\n",
       "1075    False\n",
       "1076    False\n",
       "1077    False\n",
       "1078    False\n",
       "1079    False\n",
       "1080    False\n",
       "1081    False\n",
       "1082    False\n",
       "1083    False\n",
       "1084    False\n",
       "1085    False\n",
       "1086    False\n",
       "1087    False\n",
       "1088    False\n",
       "1089    False\n",
       "1090    False\n",
       "1091    False\n",
       "1092    False\n",
       "1093    False\n",
       "Name: Leading Cause, Length: 1094, dtype: bool"
      ]
     },
     "execution_count": 14,
     "metadata": {},
     "output_type": "execute_result"
    }
   ],
   "source": [
    "cause['Leading Cause'] == 'Assault (Homicide: Y87.1, X85-Y09)'"
   ]
  },
  {
   "cell_type": "code",
   "execution_count": null,
   "metadata": {},
   "outputs": [],
   "source": []
  },
  {
   "cell_type": "code",
   "execution_count": 39,
   "metadata": {},
   "outputs": [],
   "source": [
    "cu=cause.groupby('Year')['Deaths'].count()"
   ]
  },
  {
   "cell_type": "code",
   "execution_count": 40,
   "metadata": {},
   "outputs": [
    {
     "data": {
      "text/plain": [
       "Year\n",
       "2007    141\n",
       "2008    136\n",
       "2009    135\n",
       "2010    138\n",
       "2011    141\n",
       "2012    134\n",
       "2013    133\n",
       "2014    136\n",
       "Name: Deaths, dtype: int64"
      ]
     },
     "execution_count": 40,
     "metadata": {},
     "output_type": "execute_result"
    }
   ],
   "source": [
    "cu"
   ]
  },
  {
   "cell_type": "code",
   "execution_count": 41,
   "metadata": {},
   "outputs": [
    {
     "data": {
      "text/plain": [
       "Int64Index([2007, 2008, 2009, 2010, 2011, 2012, 2013, 2014], dtype='int64', name='Year')"
      ]
     },
     "execution_count": 41,
     "metadata": {},
     "output_type": "execute_result"
    }
   ],
   "source": [
    "cu.index"
   ]
  },
  {
   "cell_type": "code",
   "execution_count": 42,
   "metadata": {},
   "outputs": [
    {
     "data": {
      "text/plain": [
       "<BarContainer object of 8 artists>"
      ]
     },
     "execution_count": 42,
     "metadata": {},
     "output_type": "execute_result"
    },
    {
     "data": {
      "image/png": "[encoded data removed]",
      "text/plain": [
       "<Figure size 432x288 with 1 Axes>"
      ]
     },
     "metadata": {},
     "output_type": "display_data"
    }
   ],
   "source": [
    "plt.bar(cu.index,cu)"
   ]
  },
  {
   "cell_type": "code",
   "execution_count": 33,
   "metadata": {},
   "outputs": [],
   "source": [
    "lc=cause.groupby('Race Ethnicity')['Death Rate'].count()"
   ]
  },
  {
   "cell_type": "code",
   "execution_count": 34,
   "metadata": {},
   "outputs": [
    {
     "data": {
      "text/plain": [
       "Race Ethnicity\n",
       "Asian and Pacific Islander    177\n",
       "Black Non-Hispanic            178\n",
       "Hispanic                      177\n",
       "Not Stated/Unknown            200\n",
       "Other Race/ Ethnicity         186\n",
       "White Non-Hispanic            176\n",
       "Name: Death Rate, dtype: int64"
      ]
     },
     "execution_count": 34,
     "metadata": {},
     "output_type": "execute_result"
    }
   ],
   "source": [
    "lc"
   ]
  },
  {
   "cell_type": "code",
   "execution_count": 35,
   "metadata": {},
   "outputs": [
    {
     "data": {
      "text/plain": [
       "Index(['Asian and Pacific Islander', 'Black Non-Hispanic', 'Hispanic',\n",
       "       'Not Stated/Unknown', 'Other Race/ Ethnicity', 'White Non-Hispanic'],\n",
       "      dtype='object', name='Race Ethnicity')"
      ]
     },
     "execution_count": 35,
     "metadata": {},
     "output_type": "execute_result"
    }
   ],
   "source": [
    "lc.index"
   ]
  },
  {
   "cell_type": "code",
   "execution_count": 36,
   "metadata": {},
   "outputs": [
    {
     "data": {
      "text/plain": [
       "<BarContainer object of 6 artists>"
      ]
     },
     "execution_count": 36,
     "metadata": {},
     "output_type": "execute_result"
    },
    {
     "data": {
      "image/png": "[encoded data removed]",
      "text/plain": [
       "<Figure size 432x288 with 1 Axes>"
      ]
     },
     "metadata": {},
     "output_type": "display_data"
    }
   ],
   "source": [
    "plt.bar(lc.index,lc)"
   ]
  },
  {
   "cell_type": "code",
   "execution_count": 38,
   "metadata": {},
   "outputs": [
    {
     "data": {
      "text/plain": [
       "([0, 1, 2, 3, 4, 5], <a list of 6 Text xticklabel objects>)"
      ]
     },
     "execution_count": 38,
     "metadata": {},
     "output_type": "execute_result"
    },
    {
     "data": {
      "image/png": "[encoded data removed]",
      "text/plain": [
       "<Figure size 432x288 with 1 Axes>"
      ]
     },
     "metadata": {},
     "output_type": "display_data"
    }
   ],
   "source": [
    "plt.bar(lc.index,lc)\n",
    "plt.xticks(rotation = 80)"
   ]
  },
  {
   "cell_type": "code",
   "execution_count": 43,
   "metadata": {},
   "outputs": [],
   "source": [
    "import seaborn as sns"
   ]
  },
  {
   "cell_type": "code",
   "execution_count": 46,
   "metadata": {},
   "outputs": [],
   "source": [
    "res = pd.read_csv('Data/restaurant-and-market-health-inspections.csv')"
   ]
  },
  {
   "cell_type": "code",
   "execution_count": 47,
   "metadata": {},
   "outputs": [
    {
     "name": "stdout",
     "output_type": "stream",
     "text": [
      "<class 'pandas.core.frame.DataFrame'>\n",
      "RangeIndex: 58872 entries, 0 to 58871\n",
      "Data columns (total 20 columns):\n",
      "serial_number          58872 non-null object\n",
      "activity_date          58872 non-null object\n",
      "facility_name          58872 non-null object\n",
      "score                  58872 non-null int64\n",
      "grade                  58872 non-null object\n",
      "service_code           58872 non-null int64\n",
      "service_description    58872 non-null object\n",
      "employee_id            58872 non-null object\n",
      "facility_address       58872 non-null object\n",
      "facility_city          58872 non-null object\n",
      "facility_id            58872 non-null object\n",
      "facility_state         58872 non-null object\n",
      "facility_zip           58872 non-null object\n",
      "owner_id               58872 non-null object\n",
      "owner_name             58872 non-null object\n",
      "pe_description         58872 non-null object\n",
      "program_element_pe     58872 non-null int64\n",
      "program_name           58740 non-null object\n",
      "program_status         58872 non-null object\n",
      "record_id              58872 non-null object\n",
      "dtypes: int64(3), object(17)\n",
      "memory usage: 9.0+ MB\n"
     ]
    }
   ],
   "source": [
    "res.info()"
   ]
  },
  {
   "cell_type": "code",
   "execution_count": 48,
   "metadata": {},
   "outputs": [
    {
     "data": {
      "text/html": [
       "<div>\n",
       "<style scoped>\n",
       "    .dataframe tbody tr th:only-of-type {\n",
       "        vertical-align: middle;\n",
       "    }\n",
       "\n",
       "    .dataframe tbody tr th {\n",
       "        vertical-align: top;\n",
       "    }\n",
       "\n",
       "    .dataframe thead th {\n",
       "        text-align: right;\n",
       "    }\n",
       "</style>\n",
       "<table border=\"1\" class=\"dataframe\">\n",
       "  <thead>\n",
       "    <tr style=\"text-align: right;\">\n",
       "      <th></th>\n",
       "      <th>serial_number</th>\n",
       "      <th>activity_date</th>\n",
       "      <th>facility_name</th>\n",
       "      <th>score</th>\n",
       "      <th>grade</th>\n",
       "      <th>service_code</th>\n",
       "      <th>service_description</th>\n",
       "      <th>employee_id</th>\n",
       "      <th>facility_address</th>\n",
       "      <th>facility_city</th>\n",
       "      <th>facility_id</th>\n",
       "      <th>facility_state</th>\n",
       "      <th>facility_zip</th>\n",
       "      <th>owner_id</th>\n",
       "      <th>owner_name</th>\n",
       "      <th>pe_description</th>\n",
       "      <th>program_element_pe</th>\n",
       "      <th>program_name</th>\n",
       "      <th>program_status</th>\n",
       "      <th>record_id</th>\n",
       "    </tr>\n",
       "  </thead>\n",
       "  <tbody>\n",
       "    <tr>\n",
       "      <th>0</th>\n",
       "      <td>DAJ00E07B</td>\n",
       "      <td>2017-12-29T00:00:00</td>\n",
       "      <td>HABITAT COFFEE SHOP</td>\n",
       "      <td>95</td>\n",
       "      <td>A</td>\n",
       "      <td>1</td>\n",
       "      <td>ROUTINE INSPECTION</td>\n",
       "      <td>EE0000923</td>\n",
       "      <td>3708 N EAGLE ROCK BLVD</td>\n",
       "      <td>LOS ANGELES</td>\n",
       "      <td>FA0170465</td>\n",
       "      <td>CA</td>\n",
       "      <td>90065</td>\n",
       "      <td>OW0178123</td>\n",
       "      <td>GLASSELL COFFEE SHOP LLC</td>\n",
       "      <td>RESTAURANT (0-30) SEATS MODERATE RISK</td>\n",
       "      <td>1631</td>\n",
       "      <td>HABITAT COFFEE SHOP</td>\n",
       "      <td>ACTIVE</td>\n",
       "      <td>PR0160774</td>\n",
       "    </tr>\n",
       "    <tr>\n",
       "      <th>1</th>\n",
       "      <td>DAQOKRFZB</td>\n",
       "      <td>2017-12-29T00:00:00</td>\n",
       "      <td>REILLY'S</td>\n",
       "      <td>92</td>\n",
       "      <td>A</td>\n",
       "      <td>1</td>\n",
       "      <td>ROUTINE INSPECTION</td>\n",
       "      <td>EE0000633</td>\n",
       "      <td>100 WORLD WAY # 120</td>\n",
       "      <td>LOS ANGELES</td>\n",
       "      <td>FA0244690</td>\n",
       "      <td>CA</td>\n",
       "      <td>90045</td>\n",
       "      <td>OW0208441</td>\n",
       "      <td>AREAS SKYVIEW LAX JV, LLC</td>\n",
       "      <td>RESTAURANT (0-30) SEATS MODERATE RISK</td>\n",
       "      <td>1631</td>\n",
       "      <td>REILLY'S</td>\n",
       "      <td>ACTIVE</td>\n",
       "      <td>PR0193026</td>\n",
       "    </tr>\n",
       "    <tr>\n",
       "      <th>2</th>\n",
       "      <td>DASJI4LUR</td>\n",
       "      <td>2017-12-29T00:00:00</td>\n",
       "      <td>STREET CHURROS</td>\n",
       "      <td>93</td>\n",
       "      <td>A</td>\n",
       "      <td>1</td>\n",
       "      <td>ROUTINE INSPECTION</td>\n",
       "      <td>EE0000835</td>\n",
       "      <td>6801 HOLLYWOOD BLVD # 253</td>\n",
       "      <td>LOS ANGELES</td>\n",
       "      <td>FA0224109</td>\n",
       "      <td>CA</td>\n",
       "      <td>90028</td>\n",
       "      <td>OW0228670</td>\n",
       "      <td>STREETCHURROS, INC</td>\n",
       "      <td>RESTAURANT (0-30) SEATS LOW RISK</td>\n",
       "      <td>1630</td>\n",
       "      <td>STREET CHURROS</td>\n",
       "      <td>ACTIVE</td>\n",
       "      <td>PR0179282</td>\n",
       "    </tr>\n",
       "    <tr>\n",
       "      <th>3</th>\n",
       "      <td>DAWVA0CY3</td>\n",
       "      <td>2017-12-29T00:00:00</td>\n",
       "      <td>RIO GENTLEMANS CLUB</td>\n",
       "      <td>93</td>\n",
       "      <td>A</td>\n",
       "      <td>1</td>\n",
       "      <td>ROUTINE INSPECTION</td>\n",
       "      <td>EE0000958</td>\n",
       "      <td>13124 S FIGUEROA ST</td>\n",
       "      <td>LOS ANGELES</td>\n",
       "      <td>FA0046462</td>\n",
       "      <td>CA</td>\n",
       "      <td>90064</td>\n",
       "      <td>OW0011830</td>\n",
       "      <td>FIGUEROA GROUP INC</td>\n",
       "      <td>RESTAURANT (61-150) SEATS LOW RISK</td>\n",
       "      <td>1636</td>\n",
       "      <td>RIO GENTLEMANS CLUB</td>\n",
       "      <td>ACTIVE</td>\n",
       "      <td>PR0044776</td>\n",
       "    </tr>\n",
       "    <tr>\n",
       "      <th>4</th>\n",
       "      <td>DAKFCHD0L</td>\n",
       "      <td>2017-12-29T00:00:00</td>\n",
       "      <td>LE PAIN QUOTIDIEN</td>\n",
       "      <td>93</td>\n",
       "      <td>A</td>\n",
       "      <td>1</td>\n",
       "      <td>ROUTINE INSPECTION</td>\n",
       "      <td>EE0000629</td>\n",
       "      <td>13050 SAN VICENTE BLVD STE 114</td>\n",
       "      <td>LOS ANGELES</td>\n",
       "      <td>FA0034788</td>\n",
       "      <td>CA</td>\n",
       "      <td>90049</td>\n",
       "      <td>OW0028928</td>\n",
       "      <td>PQ SAN VICENTE INC.</td>\n",
       "      <td>RESTAURANT (61-150) SEATS HIGH RISK</td>\n",
       "      <td>1638</td>\n",
       "      <td>LE PAIN QUOTIDIEN</td>\n",
       "      <td>ACTIVE</td>\n",
       "      <td>PR0017456</td>\n",
       "    </tr>\n",
       "  </tbody>\n",
       "</table>\n",
       "</div>"
      ],
      "text/plain": [
       "  serial_number        activity_date        facility_name  score grade  \\\n",
       "0     DAJ00E07B  2017-12-29T00:00:00  HABITAT COFFEE SHOP     95     A   \n",
       "1     DAQOKRFZB  2017-12-29T00:00:00             REILLY'S     92     A   \n",
       "2     DASJI4LUR  2017-12-29T00:00:00       STREET CHURROS     93     A   \n",
       "3     DAWVA0CY3  2017-12-29T00:00:00  RIO GENTLEMANS CLUB     93     A   \n",
       "4     DAKFCHD0L  2017-12-29T00:00:00    LE PAIN QUOTIDIEN     93     A   \n",
       "\n",
       "   service_code service_description employee_id  \\\n",
       "0             1  ROUTINE INSPECTION   EE0000923   \n",
       "1             1  ROUTINE INSPECTION   EE0000633   \n",
       "2             1  ROUTINE INSPECTION   EE0000835   \n",
       "3             1  ROUTINE INSPECTION   EE0000958   \n",
       "4             1  ROUTINE INSPECTION   EE0000629   \n",
       "\n",
       "                 facility_address facility_city facility_id facility_state  \\\n",
       "0          3708 N EAGLE ROCK BLVD   LOS ANGELES   FA0170465             CA   \n",
       "1             100 WORLD WAY # 120   LOS ANGELES   FA0244690             CA   \n",
       "2       6801 HOLLYWOOD BLVD # 253   LOS ANGELES   FA0224109             CA   \n",
       "3             13124 S FIGUEROA ST   LOS ANGELES   FA0046462             CA   \n",
       "4  13050 SAN VICENTE BLVD STE 114   LOS ANGELES   FA0034788             CA   \n",
       "\n",
       "  facility_zip   owner_id                 owner_name  \\\n",
       "0        90065  OW0178123   GLASSELL COFFEE SHOP LLC   \n",
       "1        90045  OW0208441  AREAS SKYVIEW LAX JV, LLC   \n",
       "2        90028  OW0228670         STREETCHURROS, INC   \n",
       "3        90064  OW0011830         FIGUEROA GROUP INC   \n",
       "4        90049  OW0028928        PQ SAN VICENTE INC.   \n",
       "\n",
       "                          pe_description  program_element_pe  \\\n",
       "0  RESTAURANT (0-30) SEATS MODERATE RISK                1631   \n",
       "1  RESTAURANT (0-30) SEATS MODERATE RISK                1631   \n",
       "2       RESTAURANT (0-30) SEATS LOW RISK                1630   \n",
       "3     RESTAURANT (61-150) SEATS LOW RISK                1636   \n",
       "4    RESTAURANT (61-150) SEATS HIGH RISK                1638   \n",
       "\n",
       "          program_name program_status  record_id  \n",
       "0  HABITAT COFFEE SHOP         ACTIVE  PR0160774  \n",
       "1             REILLY'S         ACTIVE  PR0193026  \n",
       "2       STREET CHURROS         ACTIVE  PR0179282  \n",
       "3  RIO GENTLEMANS CLUB         ACTIVE  PR0044776  \n",
       "4    LE PAIN QUOTIDIEN         ACTIVE  PR0017456  "
      ]
     },
     "execution_count": 48,
     "metadata": {},
     "output_type": "execute_result"
    }
   ],
   "source": [
    "res.head()"
   ]
  },
  {
   "cell_type": "code",
   "execution_count": 49,
   "metadata": {},
   "outputs": [
    {
     "data": {
      "text/plain": [
       "0         95\n",
       "1         92\n",
       "2         93\n",
       "3         93\n",
       "4         93\n",
       "5         94\n",
       "6         96\n",
       "7         94\n",
       "8         93\n",
       "9         95\n",
       "10        91\n",
       "11        97\n",
       "12        95\n",
       "13        91\n",
       "14        95\n",
       "15        97\n",
       "16        95\n",
       "17        91\n",
       "18        98\n",
       "19        90\n",
       "20        94\n",
       "21        90\n",
       "22        90\n",
       "23        92\n",
       "24        91\n",
       "25        98\n",
       "26       100\n",
       "27       100\n",
       "28        81\n",
       "29       100\n",
       "        ... \n",
       "58842     90\n",
       "58843     97\n",
       "58844     97\n",
       "58845     97\n",
       "58846     96\n",
       "58847     97\n",
       "58848    100\n",
       "58849     96\n",
       "58850     97\n",
       "58851     95\n",
       "58852     96\n",
       "58853     96\n",
       "58854     97\n",
       "58855     96\n",
       "58856     95\n",
       "58857     96\n",
       "58858     96\n",
       "58859     96\n",
       "58860     97\n",
       "58861     97\n",
       "58862     97\n",
       "58863     96\n",
       "58864     97\n",
       "58865     97\n",
       "58866     97\n",
       "58867     97\n",
       "58868     94\n",
       "58869     96\n",
       "58870     97\n",
       "58871     94\n",
       "Name: score, Length: 58872, dtype: int64"
      ]
     },
     "execution_count": 49,
     "metadata": {},
     "output_type": "execute_result"
    }
   ],
   "source": [
    "res['score']"
   ]
  },
  {
   "cell_type": "code",
   "execution_count": 51,
   "metadata": {},
   "outputs": [
    {
     "data": {
      "text/plain": [
       "<matplotlib.axes._subplots.AxesSubplot at 0x1a19efe5c0>"
      ]
     },
     "execution_count": 51,
     "metadata": {},
     "output_type": "execute_result"
    },
    {
     "data": {
      "image/png": "[encoded data removed]",
      "text/plain": [
       "<Figure size 432x288 with 1 Axes>"
      ]
     },
     "metadata": {},
     "output_type": "display_data"
    }
   ],
   "source": [
    "res['score'].hist()"
   ]
  },
  {
   "cell_type": "code",
   "execution_count": 53,
   "metadata": {},
   "outputs": [
    {
     "data": {
      "text/plain": [
       "<matplotlib.axes._subplots.AxesSubplot at 0x1a1d819c50>"
      ]
     },
     "execution_count": 53,
     "metadata": {},
     "output_type": "execute_result"
    },
    {
     "data": {
      "image/png": "[encoded data removed]",
      "text/plain": [
       "<Figure size 432x288 with 1 Axes>"
      ]
     },
     "metadata": {},
     "output_type": "display_data"
    }
   ],
   "source": [
    "sns.boxplot(res['score'])"
   ]
  },
  {
   "cell_type": "code",
   "execution_count": null,
   "metadata": {},
   "outputs": [],
   "source": []
  }
 ],
 "metadata": {
  "kernelspec": {
   "display_name": "Python 3",
   "language": "python",
   "name": "python3"
  },
  "language_info": {
   "codemirror_mode": {
    "name": "ipython",
    "version": 3
   },
   "file_extension": ".py",
   "mimetype": "text/x-python",
   "name": "python",
   "nbconvert_exporter": "python",
   "pygments_lexer": "ipython3",
   "version": "3.6.5"
  }
 },
 "nbformat": 4,
 "nbformat_minor": 2
}
